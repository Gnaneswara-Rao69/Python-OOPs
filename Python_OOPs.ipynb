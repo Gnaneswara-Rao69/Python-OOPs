{
  "nbformat": 4,
  "nbformat_minor": 0,
  "metadata": {
    "colab": {
      "provenance": []
    },
    "kernelspec": {
      "name": "python3",
      "display_name": "Python 3"
    },
    "language_info": {
      "name": "python"
    }
  },
  "cells": [
    {
      "cell_type": "markdown",
      "source": [
        "#Python OOPs\n"
      ],
      "metadata": {
        "id": "611gBbDHLl1i"
      }
    },
    {
      "cell_type": "markdown",
      "source": [
        "1. Create a parent class Animal with a method speak() that prints a generic message. Create a child class Dog\n",
        "that overrides the speak() method to print \"Bark!\"."
      ],
      "metadata": {
        "id": "IIB5-FzbLta7"
      }
    },
    {
      "cell_type": "code",
      "source": [
        "class Animal:\n",
        "    def speak(self):\n",
        "        print(\"The animal makes a sound\")\n",
        "\n",
        "class Dog(Animal):\n",
        "    def speak(self):\n",
        "        print(\"Bark!\")\n",
        "\n",
        "# Create an instance of Animal and call speak()\n",
        "animal = Animal()\n",
        "animal.speak()  # Output: The animal makes a sound\n",
        "\n",
        "# Create an instance of Dog and call speak()\n",
        "dog = Dog()\n",
        "dog.speak()  # Output: Bark!\n"
      ],
      "metadata": {
        "id": "IHLA9JIpM1IF"
      },
      "execution_count": null,
      "outputs": []
    },
    {
      "cell_type": "markdown",
      "source": [
        "2. Write a program to create an abstract class Shape with a method area(). Derive classes Circle and Rectangle\n",
        "from it and implement the area() method in both."
      ],
      "metadata": {
        "id": "4c3F5AcIM9_6"
      }
    },
    {
      "cell_type": "code",
      "source": [
        "from abc import ABC, abstractmethod\n",
        "import math\n",
        "\n",
        "class Shape(ABC):\n",
        "    @abstractmethod\n",
        "    def area(self):\n",
        "        pass\n",
        "\n",
        "class Circle(Shape):\n",
        "    def __init__(self, radius):\n",
        "        self.radius = radius\n",
        "\n",
        "    def area(self):\n",
        "        return math.pi * self.radius ** 2\n",
        "\n",
        "class Rectangle(Shape):\n",
        "    def __init__(self, width, height):\n",
        "        self.width = width\n",
        "        self.height = height\n",
        "\n",
        "    def area(self):\n",
        "        return self.width * self.height\n",
        "\n",
        "# Create instances of Circle and Rectangle\n",
        "circle = Circle(5)\n",
        "rectangle = Rectangle(4, 5)\n",
        "\n",
        "# Calculate and print areas\n",
        "print(f\"Circle area: {circle.area():.2f}\")\n",
        "print(f\"Rectangle area: {rectangle.area():.2f}\")\n"
      ],
      "metadata": {
        "id": "S7-PkqRKNPV-"
      },
      "execution_count": null,
      "outputs": []
    },
    {
      "cell_type": "markdown",
      "source": [
        "3.  Implement a multi-level inheritance scenario where a class Vehicle has an attribute type. Derive a class Car\n",
        "and further derive a class ElectricCar that adds a battery attribute."
      ],
      "metadata": {
        "id": "x2Cn4J6YNg-K"
      }
    },
    {
      "cell_type": "code",
      "source": [
        "class Vehicle:\n",
        "    def __init__(self, type):\n",
        "        self.type = type\n",
        "\n",
        "    def display_type(self):\n",
        "        print(f\"Vehicle type: {self.type}\")\n",
        "\n",
        "class Car(Vehicle):\n",
        "    def __init__(self, type, brand, model):\n",
        "        super().__init__(type)\n",
        "        self.brand = brand\n",
        "        self.model = model\n",
        "\n",
        "    def display_details(self):\n",
        "        print(f\"Brand: {self.brand}, Model: {self.model}\")\n",
        "\n",
        "class ElectricCar(Car):\n",
        "    def __init__(self, type, brand, model, battery_capacity):\n",
        "        super().__init__(type, brand, model)\n",
        "        self.battery_capacity = battery_capacity\n",
        "\n",
        "    def display_battery_info(self):\n",
        "        print(f\"Battery capacity: {self.battery_capacity} kWh\")\n",
        "\n",
        "# Create an instance of ElectricCar\n",
        "electric_car = ElectricCar(\"Car\", \"Tesla\", \"Model S\", 100)\n",
        "\n",
        "# Display vehicle type, car details, and battery info\n",
        "electric_car.display_type()\n",
        "electric_car.display_details()\n",
        "electric_car.display_battery_info()\n"
      ],
      "metadata": {
        "id": "B7C-vui7NtpZ"
      },
      "execution_count": null,
      "outputs": []
    },
    {
      "cell_type": "markdown",
      "source": [
        "4.  Demonstrate polymorphism by creating a base class Bird with a method fly(). Create two derived classes\n",
        "Sparrow and Penguin that override the fly() method.\n"
      ],
      "metadata": {
        "id": "jKlMf363N-1Y"
      }
    },
    {
      "cell_type": "code",
      "source": [
        "class Bird:\n",
        "    def fly(self):\n",
        "        print(\"The bird is flying\")\n",
        "\n",
        "class Sparrow(Bird):\n",
        "    def fly(self):\n",
        "        print(\"The sparrow is flying swiftly\")\n",
        "\n",
        "class Penguin(Bird):\n",
        "    def fly(self):\n",
        "        print(\"Penguins cannot fly, they swim instead\")\n",
        "\n",
        "# Create a list of birds\n",
        "birds = [Sparrow(), Penguin(), Bird()]\n",
        "\n",
        "# Iterate over the list and call the fly() method\n",
        "for bird in birds:\n",
        "    bird.fly()\n"
      ],
      "metadata": {
        "id": "-R72WiaPOJLp"
      },
      "execution_count": null,
      "outputs": []
    },
    {
      "cell_type": "markdown",
      "source": [
        "5. Write a program to demonstrate encapsulation by creating a class BankAccount with private attributes\n",
        "balance and methods to deposit, withdraw, and check balance."
      ],
      "metadata": {
        "id": "g9q5xdcVOb6R"
      }
    },
    {
      "cell_type": "code",
      "source": [
        "class BankAccount:\n",
        "    def __init__(self, initial_balance=0):\n",
        "        self.__balance = initial_balance\n",
        "\n",
        "    def deposit(self, amount):\n",
        "        if amount > 0:\n",
        "            self.__balance += amount\n",
        "            print(f\"Deposited ${amount:.2f}. New balance: ${self.__balance:.2f}\")\n",
        "        else:\n",
        "            print(\"Invalid deposit amount.\")\n",
        "\n",
        "    def withdraw(self, amount):\n",
        "        if 0 < amount <= self.__balance:\n",
        "            self.__balance -= amount\n",
        "            print(f\"Withdrew ${amount:.2f}. New balance: ${self.__balance:.2f}\")\n",
        "        elif amount <= 0:\n",
        "            print(\"Invalid withdrawal amount.\")\n",
        "        else:\n",
        "            print(\"Insufficient funds.\")\n",
        "\n",
        "    def check_balance(self):\n",
        "        print(f\"Current balance: ${self.__balance:.2f}\")\n",
        "\n",
        "# Create a bank account\n",
        "account = BankAccount(1000)\n",
        "\n",
        "# Deposit money\n",
        "account.deposit(500)\n",
        "\n",
        "# Withdraw money\n",
        "account.withdraw(200)\n",
        "\n",
        "# Check balance\n",
        "account.check_balance()\n",
        "\n",
        "# Attempt to withdraw more than the balance\n",
        "account.withdraw(2000)\n"
      ],
      "metadata": {
        "id": "oo7TfCLLOmin"
      },
      "execution_count": null,
      "outputs": []
    },
    {
      "cell_type": "markdown",
      "source": [
        "6.  Demonstrate runtime polymorphism using a method play() in a base class Instrument. Derive classes Guitar\n",
        "and Piano that implement their own version of play()"
      ],
      "metadata": {
        "id": "nKodIcb-OuLK"
      }
    },
    {
      "cell_type": "code",
      "source": [
        "class Instrument:\n",
        "    def play(self):\n",
        "        print(\"The instrument is playing\")\n",
        "\n",
        "class Guitar(Instrument):\n",
        "    def play(self):\n",
        "        print(\"The guitar is strumming\")\n",
        "\n",
        "class Piano(Instrument):\n",
        "    def play(self):\n",
        "        print(\"The piano is being played\")\n",
        "\n",
        "# Create a list of instruments\n",
        "instruments = [Guitar(), Piano(), Instrument()]\n",
        "\n",
        "# Iterate over the list and call the play() method\n",
        "for instrument in instruments:\n",
        "    instrument.play()\n",
        "\n"
      ],
      "metadata": {
        "id": "rUirehGDPAb_"
      },
      "execution_count": null,
      "outputs": []
    },
    {
      "cell_type": "markdown",
      "source": [
        "7. Create a class MathOperations with a class method add_numbers() to add two numbers and a static\n",
        "method subtract_numbers() to subtract two numbers."
      ],
      "metadata": {
        "id": "ERv7otcwPB3w"
      }
    },
    {
      "cell_type": "code",
      "source": [
        "class MathOperations:\n",
        "    @classmethod\n",
        "    def add_numbers(cls, num1, num2):\n",
        "        return num1 + num2\n",
        "\n",
        "    @staticmethod\n",
        "    def subtract_numbers(num1, num2):\n",
        "        return num1 - num2\n",
        "\n",
        "# Call the class method\n",
        "result_add = MathOperations.add_numbers(10, 5)\n",
        "print(f\"Addition result: {result_add}\")\n",
        "\n",
        "# Call the static method\n",
        "result_subtract = MathOperations.subtract_numbers(10, 5)\n",
        "print(f\"Subtraction result: {result_subtract}\")\n"
      ],
      "metadata": {
        "id": "wslRK0h4PTFg"
      },
      "execution_count": null,
      "outputs": []
    },
    {
      "cell_type": "markdown",
      "source": [
        "8.  Implement a class Person with a class method to count the total number of persons created."
      ],
      "metadata": {
        "id": "W2_1XqrNPgU6"
      }
    },
    {
      "cell_type": "code",
      "source": [
        "class Person:\n",
        "    total_persons = 0\n",
        "\n",
        "    def __init__(self, name, age):\n",
        "        self.name = name\n",
        "        self.age = age\n",
        "        Person.total_persons += 1\n",
        "\n",
        "    @classmethod\n",
        "    def count_persons(cls):\n",
        "        return cls.total_persons\n",
        "\n",
        "# Create some Person instances\n",
        "person1 = Person(\"John\", 30)\n",
        "person2 = Person(\"Jane\", 25)\n",
        "person3 = Person(\"Bob\", 40)\n",
        "\n",
        "# Get the total number of persons\n",
        "total_persons = Person.count_persons()\n",
        "print(f\"Total persons: {total_persons}\")\n",
        "\n"
      ],
      "metadata": {
        "id": "z95R5TynPlTA"
      },
      "execution_count": null,
      "outputs": []
    },
    {
      "cell_type": "markdown",
      "source": [
        "9. Write a class Fraction with attributes numerator and denominator. Override the str method to display the\n",
        "fraction as \"numerator/denominator\"."
      ],
      "metadata": {
        "id": "z0gvvOwSPspZ"
      }
    },
    {
      "cell_type": "code",
      "source": [
        "class Fraction:\n",
        "    def __init__(self, numerator, denominator):\n",
        "        if denominator == 0:\n",
        "            raise ValueError(\"Denominator cannot be zero\")\n",
        "        self.numerator = numerator\n",
        "        self.denominator = denominator\n",
        "\n",
        "    def __str__(self):\n",
        "        return f\"{self.numerator}/{self.denominator}\"\n",
        "\n",
        "# Create a fraction\n",
        "fraction = Fraction(3, 4)\n",
        "\n",
        "# Display the fraction\n",
        "print(fraction)  # Output: 3/4\n"
      ],
      "metadata": {
        "id": "xoW_OeGkPzf8"
      },
      "execution_count": null,
      "outputs": []
    },
    {
      "cell_type": "markdown",
      "source": [
        "10.  Demonstrate operator overloading by creating a class Vector and overriding the add method to add two\n",
        "vectors."
      ],
      "metadata": {
        "id": "klRtwQSzP7Ij"
      }
    },
    {
      "cell_type": "code",
      "source": [
        "class Vector:\n",
        "    def __init__(self, x, y):\n",
        "        self.x = x\n",
        "        self.y = y\n",
        "\n",
        "    def __add__(self, other):\n",
        "        if isinstance(other, Vector):\n",
        "            return Vector(self.x + other.x, self.y + other.y)\n",
        "        else:\n",
        "            raise TypeError(\"Both operands must be vectors\")\n",
        "\n",
        "    def __str__(self):\n",
        "        return f\"({self.x}, {self.y})\"\n",
        "\n",
        "# Create two vectors\n",
        "vector1 = Vector(2, 3)\n",
        "vector2 = Vector(4, 5)\n",
        "\n",
        "# Add the vectors\n",
        "vector_sum = vector1 + vector2\n",
        "\n",
        "print(f\"Vector 1: {vector1}\")\n",
        "print(f\"Vector 2: {vector2}\")\n",
        "print(f\"Vector sum: {vector_sum}\")\n"
      ],
      "metadata": {
        "id": "2tmncpsxQDGk"
      },
      "execution_count": null,
      "outputs": []
    },
    {
      "cell_type": "markdown",
      "source": [
        "11. Create a class Person with attributes name and age. Add a method greet() that prints \"Hello, my name is\n",
        "{name} and I am {age} years old.\""
      ],
      "metadata": {
        "id": "pMGiHN1gEEtV"
      }
    },
    {
      "cell_type": "code",
      "source": [
        "class Person:\n",
        "    def __init__(self, name, age):\n",
        "        self.name = name\n",
        "        self.age = age\n",
        "\n",
        "    def greet(self):\n",
        "        print(f\"Hello, my name is {self.name} and I am {self.age} years old.\")\n",
        "\n",
        "# Create a Person instance\n",
        "person = Person(\"John Doe\", 30)\n",
        "\n",
        "# Call the greet method\n",
        "person.greet()\n",
        "\n"
      ],
      "metadata": {
        "id": "QsAz5XsFEK09"
      },
      "execution_count": null,
      "outputs": []
    },
    {
      "cell_type": "markdown",
      "source": [
        "12. Implement a class Student with attributes name and grades. Create a method average_grade() to compute\n",
        "the average of the grades."
      ],
      "metadata": {
        "id": "TF5o52ezEays"
      }
    },
    {
      "cell_type": "code",
      "source": [
        "#Here's an example implementation of the Student class:\n",
        "\n",
        "class Student:\n",
        "    def __init__(self, name, grades=None):\n",
        "        self.name = name\n",
        "        self.grades = grades if grades is not None else []\n",
        "\n",
        "    def average_grade(self):\n",
        "        if not self.grades:\n",
        "            return 0\n",
        "        return sum(self.grades) / len(self.grades)\n",
        "\n",
        "# Create a Student instance\n",
        "student = Student(\"John Doe\", [90, 85, 95, 92])\n",
        "\n",
        "# Compute and print the average grade\n",
        "average = student.average_grade()\n",
        "print(f\"{student.name}'s average grade: {average:.2f}\")\n",
        "\n",
        "#Here's an example of how you can add a method to add new grades:\n",
        "\n",
        "class Student:\n",
        "    # ...\n",
        "\n",
        "    def add_grade(self, grade):\n",
        "        self.grades.append(grade)\n",
        "\n",
        "# Create a Student instance\n",
        "student = Student(\"John Doe\")\n",
        "\n",
        "# Add grades\n",
        "student.add_grade(90)\n",
        "student.add_grade(85)\n",
        "student.add_grade(95)\n",
        "\n",
        "# Compute and print the average grade\n",
        "average = student.average_grade()\n",
        "print(f\"{student.name}'s average grade: {average:.2f}\")\n",
        "\n"
      ],
      "metadata": {
        "id": "pe_YBLVAEhSX"
      },
      "execution_count": null,
      "outputs": []
    },
    {
      "cell_type": "markdown",
      "source": [
        "13. Create a class Rectangle with methods set_dimensions() to set the dimensions and area() to calculate the\n",
        "area"
      ],
      "metadata": {
        "id": "Ym39CBSTFSu9"
      }
    },
    {
      "cell_type": "code",
      "source": [
        "#Here's an example implementation of the Rectangle class:\n",
        "\n",
        "class Rectangle:\n",
        "    def __init__(self):\n",
        "        self.length = 0\n",
        "        self.width = 0\n",
        "\n",
        "    def set_dimensions(self, length, width):\n",
        "        if length <= 0 or width <= 0:\n",
        "            raise ValueError(\"Length and width must be positive numbers\")\n",
        "        self.length = length\n",
        "        self.width = width\n",
        "\n",
        "    def area(self):\n",
        "        return self.length * self.width\n",
        "\n",
        "# Create a Rectangle instance\n",
        "rectangle = Rectangle()\n",
        "\n",
        "# Set the dimensions\n",
        "rectangle.set_dimensions(5, 3)\n",
        "\n",
        "# Calculate and print the area\n",
        "area = rectangle.area()\n",
        "print(f\"Area of the rectangle: {area}\")\n",
        "\n",
        "#Here's an example of how you can add a method to calculate the perimeter:\n",
        "\n",
        "class Rectangle:\n",
        "    # ...\n",
        "\n",
        "    def perimeter(self):\n",
        "        return 2 * (self.length + self.width)\n",
        "\n",
        "# Create a Rectangle instance\n",
        "rectangle = Rectangle()\n",
        "\n",
        "# Set the dimensions\n",
        "rectangle.set_dimensions(5, 3)\n",
        "\n",
        "# Calculate and print the perimeter\n",
        "perimeter = rectangle.perimeter()\n",
        "print(f\"Perimeter of the rectangle: {perimeter}\")\n",
        "\n",
        "\n"
      ],
      "metadata": {
        "id": "eNLI9W8vFa1y"
      },
      "execution_count": null,
      "outputs": []
    },
    {
      "cell_type": "markdown",
      "source": [
        "14. Create a class Employee with a method calculate_salary() that computes the salary based on hours worked\n",
        "and hourly rate. Create a derived class Manager that adds a bonus to the salary."
      ],
      "metadata": {
        "id": "JABCgIrTFwp2"
      }
    },
    {
      "cell_type": "code",
      "source": [
        "class Employee:\n",
        "    def __init__(self, name, hourly_rate):\n",
        "        self.name = name\n",
        "        self.hourly_rate = hourly_rate\n",
        "        self.hours_worked = 0\n",
        "\n",
        "    def calculate_salary(self):\n",
        "        return self.hourly_rate * self.hours_worked\n",
        "\n",
        "    def log_hours(self, hours):\n",
        "        self.hours_worked += hours\n",
        "\n",
        "class Manager(Employee):\n",
        "    def __init__(self, name, hourly_rate, bonus):\n",
        "        super().__init__(name, hourly_rate)\n",
        "        self.bonus = bonus\n",
        "\n",
        "    def calculate_salary(self):\n",
        "        return super().calculate_salary() + self.bonus\n",
        "\n",
        "# Create an Employee instance\n",
        "employee = Employee(\"John Doe\", 25)\n",
        "employee.log_hours(40)\n",
        "\n",
        "# Calculate and print the employee's salary\n",
        "salary = employee.calculate_salary()\n",
        "print(f\"Employee {employee.name}'s salary: ${salary}\")\n",
        "\n",
        "# Create a Manager instance\n",
        "manager = Manager(\"Jane Smith\", 50, 1000)\n",
        "manager.log_hours(40)\n",
        "\n",
        "# Calculate and print the manager's salary\n",
        "salary = manager.calculate_salary()\n",
        "print(f\"Manager {manager.name}'s salary: ${salary}\")\n"
      ],
      "metadata": {
        "id": "jPh9MiJWF2i0"
      },
      "execution_count": null,
      "outputs": []
    },
    {
      "cell_type": "markdown",
      "source": [
        "15. Create a class Product with attributes name, price, and quantity. Implement a method total_price() that\n",
        "calculates the total price of the product."
      ],
      "metadata": {
        "id": "MvTohzgUGw0_"
      }
    },
    {
      "cell_type": "code",
      "source": [
        "#Here's an example implementation of the Product class:\n",
        "\n",
        "class Product:\n",
        "    def __init__(self, name, price, quantity):\n",
        "        self.name = name\n",
        "        self.price = price\n",
        "        self.quantity = quantity\n",
        "\n",
        "    def total_price(self):\n",
        "        return self.price * self.quantity\n",
        "\n",
        "# Create a Product instance\n",
        "product = Product(\"Apple iPhone\", 999.99, 2)\n",
        "\n",
        "# Calculate and print the total price\n",
        "total = product.total_price()\n",
        "print(f\"Total price of {product.quantity} {product.name}(s): ${total:.2f}\")\n",
        "\n",
        "#Here's an example of how you can add a method to apply a discount:\n",
        "\n",
        "class Product:\n",
        "    # ...\n",
        "\n",
        "    def apply_discount(self, discount_percentage):\n",
        "        self.price *= (1 - discount_percentage / 100)\n",
        "\n",
        "# Create a Product instance\n",
        "product = Product(\"Apple iPhone\", 999.99, 2)\n",
        "\n",
        "# Apply a 10% discount\n",
        "product.apply_discount(10)\n",
        "\n",
        "# Calculate and print the total price after discount\n",
        "total = product.total_price()\n",
        "print(f\"Total price of {product.quantity} {product.name}(s) after 10% discount: ${total:.2f}\")\n",
        "\n"
      ],
      "metadata": {
        "id": "nHw1sQt6G1He"
      },
      "execution_count": null,
      "outputs": []
    },
    {
      "cell_type": "markdown",
      "source": [
        "16. Create a class Animal with an abstract method sound(). Create two derived classes Cow and Sheep that\n",
        "implement the sound() method."
      ],
      "metadata": {
        "id": "cwS07lFdHMcS"
      }
    },
    {
      "cell_type": "code",
      "source": [
        "#Here's an example implementation of the Animal, Cow, and Sheep classes:\n",
        "\n",
        "from abc import ABC, abstractmethod\n",
        "\n",
        "class Animal(ABC):\n",
        "    @abstractmethod\n",
        "    def sound(self):\n",
        "        pass\n",
        "\n",
        "class Cow(Animal):\n",
        "    def sound(self):\n",
        "        return \"Moo!\"\n",
        "\n",
        "class Sheep(Animal):\n",
        "    def sound(self):\n",
        "        return \"Baa!\"\n",
        "\n",
        "# Create instances of Cow and Sheep\n",
        "cow = Cow()\n",
        "sheep = Sheep()\n",
        "\n",
        "# Make the animals sound\n",
        "print(f\"Cow says: {cow.sound()}\")\n",
        "print(f\"Sheep says: {sheep.sound()}\")\n",
        "\n",
        "#Here's an example of how you can add an attribute and a method to the Animal class:\n",
        "\n",
        "class Animal(ABC):\n",
        "    def __init__(self, name):\n",
        "        self.name = name\n",
        "\n",
        "    @abstractmethod\n",
        "    def sound(self):\n",
        "        pass\n",
        "\n",
        "    def eat(self):\n",
        "        return f\"{self.name} is eating.\"\n",
        "\n",
        "class Cow(Animal):\n",
        "    def sound(self):\n",
        "        return \"Moo!\"\n",
        "\n",
        "class Sheep(Animal):\n",
        "    def sound(self):\n",
        "        return \"Baa!\"\n",
        "\n",
        "# Create instances of Cow and Sheep\n",
        "cow = Cow(\"Bessie\")\n",
        "sheep = Sheep(\"Fleecy\")\n",
        "\n",
        "# Make the animals sound and eat\n",
        "print(f\"Cow says: {cow.sound()}\")\n",
        "print(f\"Cow is eating: {cow.eat()}\")\n",
        "print(f\"Sheep says: {sheep.sound()}\")\n",
        "print(f\"Sheep is eating: {sheep.eat()}\")\n",
        "\n",
        "\n"
      ],
      "metadata": {
        "id": "4J27UwTOHRzP"
      },
      "execution_count": null,
      "outputs": []
    },
    {
      "cell_type": "markdown",
      "source": [
        "17. Create a class Book with attributes title, author, and year_published. Add a method get_book_info() that\n",
        "returns a formatted string with the book's details."
      ],
      "metadata": {
        "id": "hoydNOZYHsSF"
      }
    },
    {
      "cell_type": "code",
      "source": [
        "#Here's an example implementation of the Book class:\n",
        "\n",
        "class Book:\n",
        "    def __init__(self, title, author, year_published):\n",
        "        self.title = title\n",
        "        self.author = author\n",
        "        self.year_published = year_published\n",
        "\n",
        "    def get_book_info(self):\n",
        "        return f\"'{self.title}' by {self.author}, published in {self.year_published}\"\n",
        "\n",
        "# Create a Book instance\n",
        "book = Book(\"To Kill a Mockingbird\", \"Harper Lee\", 1960)\n",
        "\n",
        "# Get and print the book's details\n",
        "book_info = book.get_book_info()\n",
        "print(book_info)\n",
        "\n",
        "#Here's an example of how you can add a method to compare books based on their title:\n",
        "\n",
        "class Book:\n",
        "    # ...\n",
        "\n",
        "    def __eq__(self, other):\n",
        "        return self.title.lower() == other.title.lower()\n",
        "\n",
        "# Create two Book instances\n",
        "book1 = Book(\"To Kill a Mockingbird\", \"Harper Lee\", 1960)\n",
        "book2 = Book(\"To Kill a Mockingbird\", \"Harper Lee\", 1960)\n",
        "\n",
        "# Compare the books\n",
        "if book1 == book2:\n",
        "    print(\"The books are the same.\")\n",
        "else:\n",
        "    print(\"The books are different.\")\n",
        "\n"
      ],
      "metadata": {
        "id": "02Gyykk6Hw8E"
      },
      "execution_count": null,
      "outputs": []
    },
    {
      "cell_type": "markdown",
      "source": [
        "18. Create a class House with attributes address and price. Create a derived class Mansion that adds an\n",
        "attribute number_of_rooms."
      ],
      "metadata": {
        "id": "BAYu93D3IK2G"
      }
    },
    {
      "cell_type": "code",
      "source": [
        "#Here's an example implementation of the House and Mansion classes:\n",
        "\n",
        "class House:\n",
        "    def __init__(self, address, price):\n",
        "        self.address = address\n",
        "        self.price = price\n",
        "\n",
        "    def get_house_info(self):\n",
        "        return f\"Address: {self.address}, Price: ${self.price}\"\n",
        "\n",
        "class Mansion(House):\n",
        "    def __init__(self, address, price, number_of_rooms):\n",
        "        super().__init__(address, price)\n",
        "        self.number_of_rooms = number_of_rooms\n",
        "\n",
        "    def get_house_info(self):\n",
        "        return f\"{super().get_house_info()}, Number of Rooms: {self.number_of_rooms}\"\n",
        "\n",
        "# Create a House instance\n",
        "house = House(\"123 Main St\", 500000)\n",
        "print(house.get_house_info())\n",
        "\n",
        "# Create a Mansion instance\n",
        "mansion = Mansion(\"456 Luxury Dr\", 2000000, 10)\n",
        "print(mansion.get_house_info())\n",
        "\n",
        "#Here's an example of how you can add a method to compare houses based on their price:\n",
        "\n",
        "class House:\n",
        "    # ...\n",
        "\n",
        "    def __lt__(self, other):\n",
        "        return self.price < other.price\n",
        "\n",
        "# Create two House instances\n",
        "house1 = House(\"123 Main St\", 500000)\n",
        "house2 = House(\"456 Luxury Dr\", 2000000)\n",
        "\n",
        "# Compare the houses\n",
        "if house1 < house2:\n",
        "    print(\"House 1 is less expensive than House 2.\")\n",
        "else:\n",
        "    print(\"House 1 is not less expensive than House 2.\")\n",
        "\n"
      ],
      "metadata": {
        "id": "ZG_OB9TGIPmV"
      },
      "execution_count": null,
      "outputs": []
    },
    {
      "cell_type": "code",
      "execution_count": null,
      "metadata": {
        "id": "ThyKF268LaTq"
      },
      "outputs": [],
      "source": []
    }
  ]
}